{
  "nbformat": 4,
  "nbformat_minor": 0,
  "metadata": {
    "colab": {
      "name": "CE475_project.ipynb",
      "provenance": [],
      "collapsed_sections": [],
      "toc_visible": true,
      "mount_file_id": "1C7s1p-LBKvpoMFtw2kuBLda47yVDUrXc",
      "authorship_tag": "ABX9TyMN1Qatt1Xe7DfbNxjU0mFe",
      "include_colab_link": true
    },
    "kernelspec": {
      "name": "python3",
      "display_name": "Python 3"
    }
  },
  "cells": [
    {
      "cell_type": "markdown",
      "metadata": {
        "id": "view-in-github",
        "colab_type": "text"
      },
      "source": [
        "<a href=\"https://colab.research.google.com/github/halilyaman/atlas-machine-learning/blob/master/CE475_project.ipynb\" target=\"_parent\"><img src=\"https://colab.research.google.com/assets/colab-badge.svg\" alt=\"Open In Colab\"/></a>"
      ]
    },
    {
      "cell_type": "markdown",
      "metadata": {
        "id": "dsDfaq7D1NK_",
        "colab_type": "text"
      },
      "source": [
        "## **Used Techniques**\n",
        "\n",
        "1.   Multiple Linear Regression\n",
        "2.   L1 Regularization\n",
        "3.   Polynomial Regression\n",
        "4.   K-Nearest Neighbors\n",
        "5.   Deep Neural Networks"
      ]
    },
    {
      "cell_type": "markdown",
      "metadata": {
        "id": "s3cTOgvFvZhR",
        "colab_type": "text"
      },
      "source": [
        "### **Import libraries**"
      ]
    },
    {
      "cell_type": "code",
      "metadata": {
        "id": "NGZVDzoTswCw",
        "colab_type": "code",
        "colab": {}
      },
      "source": [
        "import numpy as np\n",
        "import pandas as pd\n",
        "import matplotlib.pyplot as plt\n",
        "import seaborn as sb\n",
        "import xlwt\n",
        "from xlwt import Workbook\n",
        "\n",
        "from sklearn.linear_model import LinearRegression\n",
        "from sklearn.linear_model import Lasso\n",
        "from sklearn.model_selection import KFold\n",
        "from sklearn.feature_selection import RFE\n",
        "from sklearn.preprocessing import PolynomialFeatures\n",
        "from sklearn.neighbors import KNeighborsRegressor\n",
        "from sklearn.preprocessing import MinMaxScaler\n",
        "import tensorflow as tf"
      ],
      "execution_count": 0,
      "outputs": []
    },
    {
      "cell_type": "code",
      "metadata": {
        "id": "JAZHfVB-vtuv",
        "colab_type": "code",
        "outputId": "c62c9040-480d-4aba-a3b2-39a74b75f9c8",
        "colab": {
          "base_uri": "https://localhost:8080/",
          "height": 297
        }
      },
      "source": [
        "PATH = \"drive/My Drive/IEU/CE475_project/data.csv\"\n",
        "data = pd.read_csv(PATH)\n",
        "data.describe()"
      ],
      "execution_count": 2,
      "outputs": [
        {
          "output_type": "execute_result",
          "data": {
            "text/html": [
              "<div>\n",
              "<style scoped>\n",
              "    .dataframe tbody tr th:only-of-type {\n",
              "        vertical-align: middle;\n",
              "    }\n",
              "\n",
              "    .dataframe tbody tr th {\n",
              "        vertical-align: top;\n",
              "    }\n",
              "\n",
              "    .dataframe thead th {\n",
              "        text-align: right;\n",
              "    }\n",
              "</style>\n",
              "<table border=\"1\" class=\"dataframe\">\n",
              "  <thead>\n",
              "    <tr style=\"text-align: right;\">\n",
              "      <th></th>\n",
              "      <th>SampleNo</th>\n",
              "      <th>x1</th>\n",
              "      <th>x2</th>\n",
              "      <th>x3</th>\n",
              "      <th>x4</th>\n",
              "      <th>x5</th>\n",
              "      <th>x6</th>\n",
              "      <th>Y</th>\n",
              "    </tr>\n",
              "  </thead>\n",
              "  <tbody>\n",
              "    <tr>\n",
              "      <th>count</th>\n",
              "      <td>120.000000</td>\n",
              "      <td>120.000000</td>\n",
              "      <td>120.000000</td>\n",
              "      <td>120.000000</td>\n",
              "      <td>120.000000</td>\n",
              "      <td>120.000000</td>\n",
              "      <td>120.000000</td>\n",
              "      <td>100.000000</td>\n",
              "    </tr>\n",
              "    <tr>\n",
              "      <th>mean</th>\n",
              "      <td>60.500000</td>\n",
              "      <td>18.716667</td>\n",
              "      <td>0.941667</td>\n",
              "      <td>17.066667</td>\n",
              "      <td>48.266667</td>\n",
              "      <td>0.941667</td>\n",
              "      <td>24.883333</td>\n",
              "      <td>1859.750000</td>\n",
              "    </tr>\n",
              "    <tr>\n",
              "      <th>std</th>\n",
              "      <td>34.785054</td>\n",
              "      <td>12.470593</td>\n",
              "      <td>11.644089</td>\n",
              "      <td>10.810618</td>\n",
              "      <td>27.596959</td>\n",
              "      <td>11.644089</td>\n",
              "      <td>14.683887</td>\n",
              "      <td>2717.641332</td>\n",
              "    </tr>\n",
              "    <tr>\n",
              "      <th>min</th>\n",
              "      <td>1.000000</td>\n",
              "      <td>0.000000</td>\n",
              "      <td>-20.000000</td>\n",
              "      <td>0.000000</td>\n",
              "      <td>2.000000</td>\n",
              "      <td>-20.000000</td>\n",
              "      <td>1.000000</td>\n",
              "      <td>-43.000000</td>\n",
              "    </tr>\n",
              "    <tr>\n",
              "      <th>25%</th>\n",
              "      <td>30.750000</td>\n",
              "      <td>8.000000</td>\n",
              "      <td>-9.000000</td>\n",
              "      <td>7.000000</td>\n",
              "      <td>22.750000</td>\n",
              "      <td>-9.000000</td>\n",
              "      <td>12.000000</td>\n",
              "      <td>0.000000</td>\n",
              "    </tr>\n",
              "    <tr>\n",
              "      <th>50%</th>\n",
              "      <td>60.500000</td>\n",
              "      <td>18.500000</td>\n",
              "      <td>1.000000</td>\n",
              "      <td>17.500000</td>\n",
              "      <td>48.000000</td>\n",
              "      <td>1.000000</td>\n",
              "      <td>24.000000</td>\n",
              "      <td>753.500000</td>\n",
              "    </tr>\n",
              "    <tr>\n",
              "      <th>75%</th>\n",
              "      <td>90.250000</td>\n",
              "      <td>29.000000</td>\n",
              "      <td>11.000000</td>\n",
              "      <td>26.500000</td>\n",
              "      <td>74.000000</td>\n",
              "      <td>11.000000</td>\n",
              "      <td>37.250000</td>\n",
              "      <td>2262.500000</td>\n",
              "    </tr>\n",
              "    <tr>\n",
              "      <th>max</th>\n",
              "      <td>120.000000</td>\n",
              "      <td>40.000000</td>\n",
              "      <td>20.000000</td>\n",
              "      <td>35.000000</td>\n",
              "      <td>97.000000</td>\n",
              "      <td>20.000000</td>\n",
              "      <td>50.000000</td>\n",
              "      <td>12575.000000</td>\n",
              "    </tr>\n",
              "  </tbody>\n",
              "</table>\n",
              "</div>"
            ],
            "text/plain": [
              "         SampleNo          x1          x2  ...          x5          x6             Y\n",
              "count  120.000000  120.000000  120.000000  ...  120.000000  120.000000    100.000000\n",
              "mean    60.500000   18.716667    0.941667  ...    0.941667   24.883333   1859.750000\n",
              "std     34.785054   12.470593   11.644089  ...   11.644089   14.683887   2717.641332\n",
              "min      1.000000    0.000000  -20.000000  ...  -20.000000    1.000000    -43.000000\n",
              "25%     30.750000    8.000000   -9.000000  ...   -9.000000   12.000000      0.000000\n",
              "50%     60.500000   18.500000    1.000000  ...    1.000000   24.000000    753.500000\n",
              "75%     90.250000   29.000000   11.000000  ...   11.000000   37.250000   2262.500000\n",
              "max    120.000000   40.000000   20.000000  ...   20.000000   50.000000  12575.000000\n",
              "\n",
              "[8 rows x 8 columns]"
            ]
          },
          "metadata": {
            "tags": []
          },
          "execution_count": 2
        }
      ]
    },
    {
      "cell_type": "markdown",
      "metadata": {
        "id": "Uj8dpkwdHlwX",
        "colab_type": "text"
      },
      "source": [
        "### **Split data into the training inputs, training outputs and test inputs**"
      ]
    },
    {
      "cell_type": "code",
      "metadata": {
        "id": "x0t86QNKHsb8",
        "colab_type": "code",
        "colab": {}
      },
      "source": [
        "training = data[:100]\n",
        "test = data[100:]\n",
        "\n",
        "training_inputs_df = training[[\"x1\", \"x2\", \"x3\", \"x4\", \"x5\", \"x6\"]]\n",
        "training_outputs_df = training[\"Y\"]\n",
        "test_inputs_df = test[[\"x1\", \"x2\", \"x3\", \"x4\", \"x5\", \"x6\"]]"
      ],
      "execution_count": 0,
      "outputs": []
    },
    {
      "cell_type": "markdown",
      "metadata": {
        "id": "dOFkAOF8ZwvA",
        "colab_type": "text"
      },
      "source": [
        "### **Data Distribution**"
      ]
    },
    {
      "cell_type": "code",
      "metadata": {
        "id": "V8MC43A_69cj",
        "colab_type": "code",
        "outputId": "eda6d975-02a9-4108-8228-7f76c34eb223",
        "colab": {
          "base_uri": "https://localhost:8080/",
          "height": 607
        }
      },
      "source": [
        "sub_plots = training_inputs_df.hist(figsize=(12, 10))"
      ],
      "execution_count": 4,
      "outputs": [
        {
          "output_type": "display_data",
          "data": {
            "image/png": "[encoded data removed]",
            "text/plain": [
              "<Figure size 864x720 with 6 Axes>"
            ]
          },
          "metadata": {
            "tags": [],
            "needs_background": "light"
          }
        }
      ]
    },
    {
      "cell_type": "markdown",
      "metadata": {
        "id": "gqfYc0_VfhfK",
        "colab_type": "text"
      },
      "source": [
        "### **Interpretation of the Distribution**\n",
        "\n",
        "If we analyze the distributions, we see that x2 and x5 are exactly the same. So we can drop one of them."
      ]
    },
    {
      "cell_type": "code",
      "metadata": {
        "id": "qQGMzrZLg06n",
        "colab_type": "code",
        "outputId": "2ce0f80c-3359-4a0d-8dce-bc83030d107b",
        "colab": {
          "base_uri": "https://localhost:8080/",
          "height": 51
        }
      },
      "source": [
        "# drop the column \"x5\"\n",
        "training_inputs_df = training_inputs_df.drop([\"x5\"], axis=1)\n",
        "test_inputs_df = test_inputs_df.drop([\"x5\"], axis=1)\n",
        "\n",
        "# convert data frames to numpy array\n",
        "training_inputs = np.array(training_inputs_df)\n",
        "training_outputs = np.array(training_outputs_df)\n",
        "test_inputs = np.array(test_inputs_df)\n",
        "\n",
        "# print the sizes\n",
        "print(\"Training data size: {}\".format(training_inputs.shape[0]))\n",
        "print(\"Test data size: {}\".format(test_inputs.shape[0]))"
      ],
      "execution_count": 5,
      "outputs": [
        {
          "output_type": "stream",
          "text": [
            "Training data size: 100\n",
            "Test data size: 20\n"
          ],
          "name": "stdout"
        }
      ]
    },
    {
      "cell_type": "markdown",
      "metadata": {
        "id": "O2CxDwGpZ81C",
        "colab_type": "text"
      },
      "source": [
        "### **Correlation**"
      ]
    },
    {
      "cell_type": "code",
      "metadata": {
        "id": "0obDXyDPZ8J5",
        "colab_type": "code",
        "outputId": "5da790b0-2a0a-44d2-c20c-734c47a29528",
        "colab": {
          "base_uri": "https://localhost:8080/",
          "height": 596
        }
      },
      "source": [
        "C_mat = training_inputs_df.corr()\n",
        "fig = plt.figure(figsize=(10, 10))\n",
        "sb.heatmap(C_mat, vmax=1.0, square=True)"
      ],
      "execution_count": 6,
      "outputs": [
        {
          "output_type": "execute_result",
          "data": {
            "text/plain": [
              "<matplotlib.axes._subplots.AxesSubplot at 0x7f33a8358630>"
            ]
          },
          "metadata": {
            "tags": []
          },
          "execution_count": 6
        },
        {
          "output_type": "display_data",
          "data": {
            "image/png": "[encoded data removed]",
            "text/plain": [
              "<Figure size 720x720 with 2 Axes>"
            ]
          },
          "metadata": {
            "tags": [],
            "needs_background": "light"
          }
        }
      ]
    },
    {
      "cell_type": "markdown",
      "metadata": {
        "id": "0rcrbFdDhIz0",
        "colab_type": "text"
      },
      "source": [
        "### **Ground Truth Labels vs Predicted Labels**\n",
        "Use this function for plotting the results."
      ]
    },
    {
      "cell_type": "code",
      "metadata": {
        "id": "8vWupw7yhj2q",
        "colab_type": "code",
        "colab": {}
      },
      "source": [
        "def plot_result(pred_val, real_val):\n",
        "  pred_val = pred_val.flatten()\n",
        "  real_val = real_val.flatten()\n",
        "\n",
        "  plt.scatter(pred_val, real_val)\n",
        "  plt.xlabel(\"Predicted Values\")\n",
        "  plt.ylabel(\"Real Values\")\n",
        "  plt.show()\n",
        "  \n",
        "  sb.kdeplot(pred_val, real_val, color=\"blueviolet\", shade=True)\n",
        "  plt.xlabel(\"Predicted Values\")\n",
        "  plt.ylabel(\"Real Values\")\n",
        "  plt.show()"
      ],
      "execution_count": 0,
      "outputs": []
    },
    {
      "cell_type": "markdown",
      "metadata": {
        "id": "TE2fQqT_ABjO",
        "colab_type": "text"
      },
      "source": [
        "### **Helper functions**"
      ]
    },
    {
      "cell_type": "code",
      "metadata": {
        "id": "oj13DJq4aaQM",
        "colab_type": "code",
        "colab": {}
      },
      "source": [
        "def get_statistics(y_pred, y, n_coefs=None):\n",
        "\n",
        "  stats = dict()\n",
        "\n",
        "  y_mean = np.mean(y)\n",
        "\n",
        "  rss = np.sum(np.square(y - y_pred))\n",
        "  tss = np.sum(np.square(y - y_mean))\n",
        "\n",
        "  stats[\"rss\"] = rss\n",
        "  stats[\"tss\"] = tss\n",
        "  stats[\"r_square\"] = 1 - (rss / tss)\n",
        "  stats[\"mse\"] = np.sum(np.square(y_pred - y))\n",
        "  \n",
        "  if n_coefs != None:\n",
        "    \n",
        "    stats[\"f_statistic\"] = ((tss - rss) / n_coefs) / (rss / (len(y) - n_coefs - 1))\n",
        "    stats[\"adjusted_r_square\"] = 1 - ((rss / (len(y) - n_coefs - 1)) / (tss / (len(y) - 1)))\n",
        "\n",
        "  return stats"
      ],
      "execution_count": 0,
      "outputs": []
    },
    {
      "cell_type": "markdown",
      "metadata": {
        "id": "0SeO0F7yTJFj",
        "colab_type": "text"
      },
      "source": [
        "# **1. Multiple Linear Regression**\n",
        "---\n",
        "Scikit-learn library is used for this implementation.\\\n",
        "For measuring the accuracy of the model, k-fold cross validation is used."
      ]
    },
    {
      "cell_type": "code",
      "metadata": {
        "id": "d2gEXM1sTOL8",
        "colab_type": "code",
        "colab": {}
      },
      "source": [
        "def multi_lin_reg(X, y, n_splits=10):\n",
        "\n",
        "  linear_model = LinearRegression()\n",
        "\n",
        "  # training data is splitted into 10 folds each containing 10 data samples.\n",
        "  kf = KFold(n_splits=n_splits, random_state=None, shuffle=False)\n",
        "  \n",
        "  r_squares = []\n",
        "  predictions = np.array([])\n",
        "\n",
        "  for train_index, test_index in kf.split(X):\n",
        "    \n",
        "    # split data for training and testing\n",
        "    X_train, X_test = X[train_index], X[test_index]\n",
        "    y_train, y_test = y[train_index], y[test_index]\n",
        "\n",
        "    # fit the training data to the model\n",
        "    linear_model.fit(X_train, y_train)\n",
        "\n",
        "    # calculate R^2 value\n",
        "    r_square = linear_model.score(X_test, y_test)\n",
        "    r_squares.append(r_square)\n",
        "\n",
        "    # get the prediction results\n",
        "    predictions = np.append(predictions, linear_model.predict(X_test))\n",
        "\n",
        "  # calculate mean of r square values of each fold\n",
        "  r_square = np.mean(r_squares)\n",
        "\n",
        "  return r_square, predictions"
      ],
      "execution_count": 0,
      "outputs": []
    },
    {
      "cell_type": "code",
      "metadata": {
        "id": "CgE3VgIQjShp",
        "colab_type": "code",
        "outputId": "d0d9da78-0a15-4322-fc80-4c9ae9717a10",
        "colab": {
          "base_uri": "https://localhost:8080/",
          "height": 34
        }
      },
      "source": [
        "# apply multiple linear regression and get the R^2 value\n",
        "r_square, MLR_preds = multi_lin_reg(training_inputs, training_outputs, n_splits=4)\n",
        "\n",
        "print(\"Cross Validation R^2: {}\".format(r_square))"
      ],
      "execution_count": 218,
      "outputs": [
        {
          "output_type": "stream",
          "text": [
            "Cross Validation R^2: 0.3445325749234567\n"
          ],
          "name": "stdout"
        }
      ]
    },
    {
      "cell_type": "code",
      "metadata": {
        "id": "nk8rUPZiZ7d9",
        "colab_type": "code",
        "outputId": "a8cdb3b1-a468-42a6-990c-73ef3c71b9c7",
        "colab": {
          "base_uri": "https://localhost:8080/",
          "height": 541
        }
      },
      "source": [
        "# plot the results\n",
        "plot_result(MLR_preds, training_outputs)"
      ],
      "execution_count": 21,
      "outputs": [
        {
          "output_type": "display_data",
          "data": {
            "image/png": "[encoded data removed]",
            "text/plain": [
              "<Figure size 432x288 with 1 Axes>"
            ]
          },
          "metadata": {
            "tags": [],
            "needs_background": "light"
          }
        },
        {
          "output_type": "display_data",
          "data": {
            "image/png": "[encoded data removed]",
            "text/plain": [
              "<Figure size 432x288 with 1 Axes>"
            ]
          },
          "metadata": {
            "tags": [],
            "needs_background": "light"
          }
        }
      ]
    },
    {
      "cell_type": "code",
      "metadata": {
        "id": "Sx_JGyrDcZ69",
        "colab_type": "code",
        "colab": {}
      },
      "source": [
        ""
      ],
      "execution_count": 0,
      "outputs": []
    },
    {
      "cell_type": "markdown",
      "metadata": {
        "id": "_iMYSIfNWSu3",
        "colab_type": "text"
      },
      "source": [
        "**Feature Selection with Recursive Feature Elimination Method**"
      ]
    },
    {
      "cell_type": "code",
      "metadata": {
        "id": "swQt4_JzllsD",
        "colab_type": "code",
        "outputId": "b2ca58ce-d70f-4e87-b262-73ac8b454230",
        "colab": {
          "base_uri": "https://localhost:8080/",
          "height": 306
        }
      },
      "source": [
        "r_square_values = []\n",
        "log = dict()\n",
        "\n",
        "for i in range(len(training_inputs.T)):\n",
        "  \n",
        "  rfe = RFE(linear_model, i+1)\n",
        "  fit = rfe.fit(training_inputs, training_outputs)\n",
        "\n",
        "  columns = []\n",
        "\n",
        "  for j, val in enumerate(fit.support_): \n",
        "    if val:\n",
        "      columns.append(training_inputs_df.columns[j])\n",
        "  \n",
        "  r_square = fit.score(training_inputs, training_outputs)\n",
        "  r_square_values.append(r_square)\n",
        "\n",
        "  log[i] = dict()\n",
        "  log[i][\"n_feature\"] = i\n",
        "  log[i][\"selected_features\"] = columns\n",
        "  log[i][\"r_square\"] = r_square\n",
        "\n",
        "  print(f\"Selected Features: {columns}\")\n",
        "  print(f\"R^2: {r_square}\")\n",
        "  print(\"----------------------------------------------------------------\")\n",
        "\n",
        "\n",
        "best_r_square = np.max(r_square_values)\n",
        "for i in range(len(log)):\n",
        "  if log[i][\"r_square\"] == best_r_square:\n",
        "    print(\"Best Score Features: \"+str(log[i][\"selected_features\"]))\n",
        "    print(\"Best R^2: \"+str(log[i][\"r_square\"]))\n",
        "    "
      ],
      "execution_count": 22,
      "outputs": [
        {
          "output_type": "stream",
          "text": [
            "Selected Features: ['x1']\n",
            "R^2: 0.22382316839756689\n",
            "----------------------------------------------------------------\n",
            "Selected Features: ['x1', 'x3']\n",
            "R^2: 0.3994151945695339\n",
            "----------------------------------------------------------------\n",
            "Selected Features: ['x1', 'x2', 'x3']\n",
            "R^2: 0.4798833906569423\n",
            "----------------------------------------------------------------\n",
            "Selected Features: ['x1', 'x2', 'x3', 'x6']\n",
            "R^2: 0.4816417573685913\n",
            "----------------------------------------------------------------\n",
            "Selected Features: ['x1', 'x2', 'x3', 'x4', 'x6']\n",
            "R^2: 0.4817574815538422\n",
            "----------------------------------------------------------------\n",
            "Best Score Features: ['x1', 'x2', 'x3', 'x4', 'x6']\n",
            "Best R^2: 0.4817574815538422\n"
          ],
          "name": "stdout"
        }
      ]
    },
    {
      "cell_type": "markdown",
      "metadata": {
        "id": "JyHPUQtA5IjO",
        "colab_type": "text"
      },
      "source": [
        "# **2. L1 Regularization**"
      ]
    },
    {
      "cell_type": "code",
      "metadata": {
        "id": "K00dLNX95Wdy",
        "colab_type": "code",
        "colab": {}
      },
      "source": [
        "def l1_regularization(X, y, alpha=2, n_splits=4):\n",
        "\n",
        "  lasso = Lasso(alpha=alpha, normalize=True)\n",
        "\n",
        "  # training data is splitted into 10 folds each containing 10 data samples.\n",
        "  kf = KFold(n_splits=n_splits, random_state=None, shuffle=False)\n",
        "\n",
        "  r_squares = []\n",
        "  predictions = np.array([])\n",
        "\n",
        "  for train_index, test_index in kf.split(X):\n",
        "\n",
        "    # split data for training and testing\n",
        "    X_train, X_test = X[train_index], X[test_index]\n",
        "    y_train, y_test = y[train_index], y[test_index]\n",
        "\n",
        "    # fit the training data to the model\n",
        "    lasso.fit(X_train, y_train)\n",
        "\n",
        "    # calculate R^2 value\n",
        "    r_square = lasso.score(X_test, y_test)\n",
        "    r_squares.append(r_square)\n",
        "\n",
        "    # get the prediction results\n",
        "    predictions = np.append(predictions, lasso.predict(X_test))\n",
        "\n",
        "  # calculate mean of r square values\n",
        "  r_square = np.mean(r_squares)\n",
        "\n",
        "  return r_square, predictions"
      ],
      "execution_count": 0,
      "outputs": []
    },
    {
      "cell_type": "code",
      "metadata": {
        "id": "iSYYY_as9Og7",
        "colab_type": "code",
        "outputId": "dc0a96ef-a0b9-4a1f-a1e8-2b9f0433be92",
        "colab": {
          "base_uri": "https://localhost:8080/",
          "height": 510
        }
      },
      "source": [
        "# find best alpha value for lasso\n",
        "max_r_square = 0\n",
        "best_alpha = 1\n",
        "for i in range(1, 30):\n",
        "\n",
        "  r_square, lasso_preds = l1_regularization(training_inputs, training_outputs, alpha=i, n_splits=4)\n",
        "\n",
        "  print(\"Alpha: {}   R^2: {}\".format(i, r_square))\n",
        "\n",
        "  if r_square > max_r_square:\n",
        "    \n",
        "    max_r_square = r_square\n",
        "    best_alpha = i"
      ],
      "execution_count": 24,
      "outputs": [
        {
          "output_type": "stream",
          "text": [
            "Alpha: 1   R^2: 0.3464547560992587\n",
            "Alpha: 2   R^2: 0.3484899647678238\n",
            "Alpha: 3   R^2: 0.35045502014471985\n",
            "Alpha: 4   R^2: 0.35229859797677787\n",
            "Alpha: 5   R^2: 0.354020692555128\n",
            "Alpha: 6   R^2: 0.3554316298226774\n",
            "Alpha: 7   R^2: 0.3566834371155797\n",
            "Alpha: 8   R^2: 0.3578261122034411\n",
            "Alpha: 9   R^2: 0.3588596643959712\n",
            "Alpha: 10   R^2: 0.359695582832612\n",
            "Alpha: 11   R^2: 0.36040914073155167\n",
            "Alpha: 12   R^2: 0.36103140919318955\n",
            "Alpha: 13   R^2: 0.36156238821752484\n",
            "Alpha: 14   R^2: 0.3620020778045584\n",
            "Alpha: 15   R^2: 0.36235047795428993\n",
            "Alpha: 16   R^2: 0.3626075886667195\n",
            "Alpha: 17   R^2: 0.36280173279068373\n",
            "Alpha: 18   R^2: 0.3629099416781321\n",
            "Alpha: 19   R^2: 0.3629300473773571\n",
            "Alpha: 20   R^2: 0.3625527918403925\n",
            "Alpha: 21   R^2: 0.36194154433620385\n",
            "Alpha: 22   R^2: 0.36124808184526785\n",
            "Alpha: 23   R^2: 0.36047240436758443\n",
            "Alpha: 24   R^2: 0.3596145119031538\n",
            "Alpha: 25   R^2: 0.3586744044519758\n",
            "Alpha: 26   R^2: 0.3576520820140505\n",
            "Alpha: 27   R^2: 0.3565475445893779\n",
            "Alpha: 28   R^2: 0.355360792177958\n",
            "Alpha: 29   R^2: 0.3540918247797906\n"
          ],
          "name": "stdout"
        }
      ]
    },
    {
      "cell_type": "code",
      "metadata": {
        "id": "2naHEJ_iNDt5",
        "colab_type": "code",
        "colab": {
          "base_uri": "https://localhost:8080/",
          "height": 51
        },
        "outputId": "d2f341b9-ed05-4b3e-d292-9476ceafba45"
      },
      "source": [
        "# apply lasso with best alpha value\n",
        "r_square, lasso_preds = l1_regularization(training_inputs, training_outputs, alpha=best_alpha, n_splits=4)\n",
        "\n",
        "print(\"Alpha value: {}\\nR^2: {}\".format(best_alpha, r_square))"
      ],
      "execution_count": 222,
      "outputs": [
        {
          "output_type": "stream",
          "text": [
            "Alpha value: 19\n",
            "R^2: 0.3629300473773571\n"
          ],
          "name": "stdout"
        }
      ]
    },
    {
      "cell_type": "code",
      "metadata": {
        "id": "CxsEq3xtC43v",
        "colab_type": "code",
        "outputId": "a6e9368d-a258-40c6-fafd-efc05128faff",
        "colab": {
          "base_uri": "https://localhost:8080/",
          "height": 541
        }
      },
      "source": [
        "plot_result(lasso_preds, training_outputs)"
      ],
      "execution_count": 40,
      "outputs": [
        {
          "output_type": "display_data",
          "data": {
            "image/png": "[encoded data removed]",
            "text/plain": [
              "<Figure size 432x288 with 1 Axes>"
            ]
          },
          "metadata": {
            "tags": [],
            "needs_background": "light"
          }
        },
        {
          "output_type": "display_data",
          "data": {
            "image/png": "[encoded data removed]",
            "text/plain": [
              "<Figure size 432x288 with 1 Axes>"
            ]
          },
          "metadata": {
            "tags": [],
            "needs_background": "light"
          }
        }
      ]
    },
    {
      "cell_type": "markdown",
      "metadata": {
        "id": "fh7Nc9ghpYm4",
        "colab_type": "text"
      },
      "source": [
        "# **3. Polynomial Regression**"
      ]
    },
    {
      "cell_type": "code",
      "metadata": {
        "id": "E9IVaefppc5r",
        "colab_type": "code",
        "colab": {}
      },
      "source": [
        "def poly_reg(X, y, degree=2, n_splits=5):\n",
        "  \n",
        "  poly_features = PolynomialFeatures(degree=degree)\n",
        "\n",
        "  X = poly_features.fit_transform(X)\n",
        "  polynomial_model = LinearRegression()\n",
        "\n",
        "  kf = KFold(n_splits=n_splits, random_state=None, shuffle=False)\n",
        "\n",
        "  r_squares = []\n",
        "  predictions = np.array([])\n",
        "\n",
        "  for train_index, test_index in kf.split(X):\n",
        "\n",
        "    # split data for training and testing\n",
        "    X_train, X_test = X[train_index], X[test_index]\n",
        "    y_train, y_test = y[train_index], y[test_index]\n",
        "  \n",
        "    polynomial_model.fit(X_train, y_train)\n",
        "\n",
        "    # calculate R^2 value\n",
        "    r_square = polynomial_model.score(X_test, y_test)\n",
        "    r_squares.append(r_square)\n",
        "\n",
        "    # get the predictions\n",
        "    predictions = np.append(predictions, polynomial_model.predict(X_test))\n",
        "\n",
        "  # calculate mean of r square values\n",
        "  r_square = np.mean(r_squares)\n",
        "\n",
        "  return r_square, predictions\n"
      ],
      "execution_count": 0,
      "outputs": []
    },
    {
      "cell_type": "code",
      "metadata": {
        "id": "AT34J9tNq5LJ",
        "colab_type": "code",
        "outputId": "66bdb94f-0ff6-4528-9de6-b973d71cf2b5",
        "colab": {
          "base_uri": "https://localhost:8080/",
          "height": 34
        }
      },
      "source": [
        "r_square, poly_preds = poly_reg(training_inputs, training_outputs, degree=2, n_splits=4)\n",
        "\n",
        "print(\"Cross validation R^2: {}\".format(r_square))"
      ],
      "execution_count": 228,
      "outputs": [
        {
          "output_type": "stream",
          "text": [
            "Cross validation R^2: 0.46101400795870107\n"
          ],
          "name": "stdout"
        }
      ]
    },
    {
      "cell_type": "code",
      "metadata": {
        "id": "5sliU5qJq-kP",
        "colab_type": "code",
        "outputId": "4c31a1de-aea4-42a3-a868-dec683af73ff",
        "colab": {
          "base_uri": "https://localhost:8080/",
          "height": 541
        }
      },
      "source": [
        "plot_result(poly_preds, training_outputs)"
      ],
      "execution_count": 229,
      "outputs": [
        {
          "output_type": "display_data",
          "data": {
            "image/png": "[encoded data removed]",
            "text/plain": [
              "<Figure size 432x288 with 1 Axes>"
            ]
          },
          "metadata": {
            "tags": [],
            "needs_background": "light"
          }
        },
        {
          "output_type": "display_data",
          "data": {
            "image/png": "[encoded data removed]",
            "text/plain": [
              "<Figure size 432x288 with 1 Axes>"
            ]
          },
          "metadata": {
            "tags": [],
            "needs_background": "light"
          }
        }
      ]
    },
    {
      "cell_type": "markdown",
      "metadata": {
        "id": "g2Qq4bXhynry",
        "colab_type": "text"
      },
      "source": [
        "# **4. K-Nearest Neighbors**"
      ]
    },
    {
      "cell_type": "code",
      "metadata": {
        "id": "KKwhEdfiyrBX",
        "colab_type": "code",
        "colab": {}
      },
      "source": [
        "def knn(X, y, algorithm=\"auto\", n_neighbors=5, n_splits=5):\n",
        "  \n",
        "  knn = KNeighborsRegressor(n_neighbors=n_neighbors, algorithm=algorithm)\n",
        "\n",
        "  kf = KFold(n_splits=n_splits, random_state=None, shuffle=False)\n",
        "\n",
        "  r_squares = []\n",
        "  predictions = np.array([])\n",
        "\n",
        "  for train_index, test_index in kf.split(X):\n",
        "\n",
        "    # split data for training and testing\n",
        "    X_train, X_test = X[train_index], X[test_index]\n",
        "    y_train, y_test = y[train_index], y[test_index]\n",
        "  \n",
        "    knn.fit(X_train, y_train)\n",
        "\n",
        "    # calculate R^2 value\n",
        "    r_square = knn.score(X_test, y_test)\n",
        "    r_squares.append(r_square)\n",
        "\n",
        "    # get the predictions\n",
        "    predictions = np.append(predictions, knn.predict(X_test))\n",
        "\n",
        "  # calculate mean of r square values\n",
        "  r_square = np.mean(r_squares)\n",
        "\n",
        "  return r_square, predictions"
      ],
      "execution_count": 0,
      "outputs": []
    },
    {
      "cell_type": "code",
      "metadata": {
        "id": "J6-eFk-Xz4X-",
        "colab_type": "code",
        "outputId": "70ac2884-6ec8-4b7b-f04a-ff77b35672b7",
        "colab": {
          "base_uri": "https://localhost:8080/",
          "height": 340
        }
      },
      "source": [
        "best_n_neighbors = 0\n",
        "best_r_square = 0\n",
        "\n",
        "for i in range(1, 20):\n",
        "\n",
        "  r_square, knn_preds = knn(\n",
        "      training_inputs, \n",
        "      training_outputs, \n",
        "      algorithm=\"brute\", \n",
        "      n_neighbors=i,\n",
        "      n_splits=4)\n",
        "\n",
        "  if r_square > best_r_square:\n",
        "\n",
        "    best_r_square = r_square\n",
        "    best_n_neighbors = i\n",
        "  \n",
        "  print(\"{}- R^2: {}\".format(i, r_square))"
      ],
      "execution_count": 58,
      "outputs": [
        {
          "output_type": "stream",
          "text": [
            "1- R^2: -0.12622874815092738\n",
            "2- R^2: -0.0804755489828818\n",
            "3- R^2: -0.12246413764828487\n",
            "4- R^2: 0.12245753795171604\n",
            "5- R^2: 0.15748506832077552\n",
            "6- R^2: 0.14656895953765783\n",
            "7- R^2: 0.12351466971426311\n",
            "8- R^2: 0.13339119136624256\n",
            "9- R^2: 0.16527475742370124\n",
            "10- R^2: 0.17044330671729585\n",
            "11- R^2: 0.1194315788812077\n",
            "12- R^2: 0.11383038882601695\n",
            "13- R^2: 0.10789210950758366\n",
            "14- R^2: 0.10336383539774455\n",
            "15- R^2: 0.11717120056870944\n",
            "16- R^2: 0.10257666581125435\n",
            "17- R^2: 0.10100522291764064\n",
            "18- R^2: 0.10502952390364612\n",
            "19- R^2: 0.09721844836167509\n"
          ],
          "name": "stdout"
        }
      ]
    },
    {
      "cell_type": "code",
      "metadata": {
        "id": "3PquCWF9IUXz",
        "colab_type": "code",
        "colab": {
          "base_uri": "https://localhost:8080/",
          "height": 51
        },
        "outputId": "40d9b845-7c18-4a2d-ccfc-88a1d5a15ab2"
      },
      "source": [
        "r_square, knn_preds = knn(\n",
        "      training_inputs, \n",
        "      training_outputs, \n",
        "      algorithm=\"brute\", \n",
        "      n_neighbors=best_n_neighbors,\n",
        "      n_splits=4)\n",
        "\n",
        "print(\"Number of neighbors: {}\\nR^2: {}\".format(best_n_neighbors, r_square))"
      ],
      "execution_count": 234,
      "outputs": [
        {
          "output_type": "stream",
          "text": [
            "Number of neighbors: 10\n",
            "R^2: 0.17044330671729585\n"
          ],
          "name": "stdout"
        }
      ]
    },
    {
      "cell_type": "code",
      "metadata": {
        "id": "sdZ5QO-L0eBt",
        "colab_type": "code",
        "outputId": "5dc97cbf-f10f-4e82-a642-619d04d31837",
        "colab": {
          "base_uri": "https://localhost:8080/",
          "height": 541
        }
      },
      "source": [
        "plot_result(knn_preds, training_outputs)"
      ],
      "execution_count": 61,
      "outputs": [
        {
          "output_type": "display_data",
          "data": {
            "image/png": "[encoded data removed]",
            "text/plain": [
              "<Figure size 432x288 with 1 Axes>"
            ]
          },
          "metadata": {
            "tags": [],
            "needs_background": "light"
          }
        },
        {
          "output_type": "display_data",
          "data": {
            "image/png": "[encoded data removed]",
            "text/plain": [
              "<Figure size 432x288 with 1 Axes>"
            ]
          },
          "metadata": {
            "tags": [],
            "needs_background": "light"
          }
        }
      ]
    },
    {
      "cell_type": "markdown",
      "metadata": {
        "id": "1aee0tc74l-v",
        "colab_type": "text"
      },
      "source": [
        "# **5. Deep Neural Networks**"
      ]
    },
    {
      "cell_type": "markdown",
      "metadata": {
        "id": "JkJIqfSZIHHv",
        "colab_type": "text"
      },
      "source": [
        "**Build neural network**"
      ]
    },
    {
      "cell_type": "code",
      "metadata": {
        "id": "VKdDasNO4p4H",
        "colab_type": "code",
        "colab": {}
      },
      "source": [
        "def build_model():\n",
        "  NN_model = tf.keras.Sequential()\n",
        "\n",
        "  NN_model.add(tf.keras.layers.Dense(50, input_dim=5, kernel_initializer=\"normal\", activation=\"relu\"))\n",
        "  NN_model.add(tf.keras.layers.Dense(40, kernel_initializer=\"normal\", activation=\"relu\"))\n",
        "  NN_model.add(tf.keras.layers.Dense(1, kernel_initializer=\"normal\", activation=\"linear\"))\n",
        "\n",
        "  NN_model.compile(\n",
        "      optimizer=tf.keras.optimizers.Adam(), \n",
        "      loss=\"mse\",\n",
        "      metrics=[\"mse\", \"mae\"]\n",
        "  )\n",
        "\n",
        "  return NN_model"
      ],
      "execution_count": 0,
      "outputs": []
    },
    {
      "cell_type": "code",
      "metadata": {
        "id": "YOp6BogvbsEW",
        "colab_type": "code",
        "colab": {}
      },
      "source": [
        "# Normalize the data for training the model\n",
        "\n",
        "scaler_X = MinMaxScaler()\n",
        "scaler_Y = MinMaxScaler()\n",
        "\n",
        "x = training_inputs\n",
        "y = np.reshape(training_outputs, (-1, 1))\n",
        "\n",
        "scaler_X.fit(x)\n",
        "scaler_Y.fit(y)\n",
        "\n",
        "xscale = scaler_X.transform(x)\n",
        "yscale = scaler_Y.transform(y)"
      ],
      "execution_count": 0,
      "outputs": []
    },
    {
      "cell_type": "code",
      "metadata": {
        "id": "M_veU4saqeLL",
        "colab_type": "code",
        "colab": {}
      },
      "source": [
        "NN_model = build_model()\n",
        "\n",
        "history = NN_model.fit(\n",
        "        xscale,\n",
        "        yscale,\n",
        "        epochs=200,\n",
        "        batch_size=80,\n",
        "        validation_split=0.2,\n",
        "        verbose=0,\n",
        "    )"
      ],
      "execution_count": 0,
      "outputs": []
    },
    {
      "cell_type": "code",
      "metadata": {
        "id": "LFlsV-DpX8qK",
        "colab_type": "code",
        "colab": {
          "base_uri": "https://localhost:8080/",
          "height": 357
        },
        "outputId": "57c60c3f-9b49-439d-d956-b34f3091d5ac"
      },
      "source": [
        "xtest = scaler_X.transform(test_inputs)\n",
        "\n",
        "preds = NN_model.predict(xtest)\n",
        "\n",
        "final_prediction = scaler_Y.inverse_transform(preds).astype(\"int\")\n",
        "print(final_prediction)"
      ],
      "execution_count": 633,
      "outputs": [
        {
          "output_type": "stream",
          "text": [
            "[[ 6950]\n",
            " [  426]\n",
            " [ 3847]\n",
            " [ 2068]\n",
            " [  121]\n",
            " [  134]\n",
            " [   98]\n",
            " [ 5861]\n",
            " [10788]\n",
            " [ 5716]\n",
            " [  698]\n",
            " [  641]\n",
            " [ 1984]\n",
            " [ 1747]\n",
            " [ 1670]\n",
            " [10344]\n",
            " [   68]\n",
            " [  582]\n",
            " [   86]\n",
            " [   54]]\n"
          ],
          "name": "stdout"
        }
      ]
    },
    {
      "cell_type": "code",
      "metadata": {
        "id": "1ABP5zWEVMbJ",
        "colab_type": "code",
        "outputId": "4b16a161-b6ae-43dc-a84a-12e45ff00a1a",
        "colab": {
          "base_uri": "https://localhost:8080/",
          "height": 295
        }
      },
      "source": [
        "loss = history.history[\"loss\"]\n",
        "val_loss = history.history[\"val_loss\"]\n",
        "\n",
        "epochs = range(len(loss))\n",
        "\n",
        "plt.plot(epochs, loss, \"g\", label=\"Training loss\")\n",
        "plt.plot(epochs, val_loss, \"r\", label=\"Validation loss\")\n",
        "plt.title(\"Training and validation loss\")\n",
        "plt.xlabel(\"Epochs\")\n",
        "plt.ylabel(\"Loss\")\n",
        "\n",
        "plt.legend()\n",
        "plt.show()"
      ],
      "execution_count": 634,
      "outputs": [
        {
          "output_type": "display_data",
          "data": {
            "image/png": "[encoded data removed]",
            "text/plain": [
              "<Figure size 432x288 with 1 Axes>"
            ]
          },
          "metadata": {
            "tags": [],
            "needs_background": "light"
          }
        }
      ]
    },
    {
      "cell_type": "code",
      "metadata": {
        "id": "suJ66ByqQOzk",
        "colab_type": "code",
        "outputId": "79aefa68-76a5-44c4-c42f-53434439dc77",
        "colab": {
          "base_uri": "https://localhost:8080/",
          "height": 34
        }
      },
      "source": [
        "NN_preds = NN_model.predict(xscale)\n",
        "NN_preds = scaler_Y.inverse_transform(NN_preds).T\n",
        "\n",
        "r_square = 1 - ( np.sum(np.square(training_outputs - NN_preds)) / np.sum(np.square(training_outputs - np.mean(training_outputs))))\n",
        "print(\"R^2: {}\".format(r_square))"
      ],
      "execution_count": 635,
      "outputs": [
        {
          "output_type": "stream",
          "text": [
            "R^2: 0.7449128050389286\n"
          ],
          "name": "stdout"
        }
      ]
    },
    {
      "cell_type": "code",
      "metadata": {
        "id": "vm7chft5bJlI",
        "colab_type": "code",
        "colab": {
          "base_uri": "https://localhost:8080/",
          "height": 541
        },
        "outputId": "d906a1f5-45bb-44b2-fb76-03da7ac2ba22"
      },
      "source": [
        "plot_result(NN_preds, training_outputs)"
      ],
      "execution_count": 636,
      "outputs": [
        {
          "output_type": "display_data",
          "data": {
            "image/png": "[encoded data removed]",
            "text/plain": [
              "<Figure size 432x288 with 1 Axes>"
            ]
          },
          "metadata": {
            "tags": [],
            "needs_background": "light"
          }
        },
        {
          "output_type": "display_data",
          "data": {
            "image/png": "[encoded data removed]",
            "text/plain": [
              "<Figure size 432x288 with 1 Axes>"
            ]
          },
          "metadata": {
            "tags": [],
            "needs_background": "light"
          }
        }
      ]
    },
    {
      "cell_type": "markdown",
      "metadata": {
        "id": "fj47MVW0tHMT",
        "colab_type": "text"
      },
      "source": [
        "# **Final Prediction On The Test Data**"
      ]
    },
    {
      "cell_type": "code",
      "metadata": {
        "id": "q_jRMjngZZ03",
        "colab_type": "code",
        "colab": {}
      },
      "source": [
        "def write_to_excel(data):\n",
        "\n",
        "  wb = Workbook()\n",
        "\n",
        "  sheet = wb.add_sheet(\"Prediction\")\n",
        "\n",
        "  for i, v in enumerate(data):\n",
        "    \n",
        "    sheet.write(i, 0, str(v))\n",
        "\n",
        "  wb.save(\"prediction.xls\")"
      ],
      "execution_count": 0,
      "outputs": []
    },
    {
      "cell_type": "code",
      "metadata": {
        "id": "5cx8xGj3tyuV",
        "colab_type": "code",
        "colab": {}
      },
      "source": [
        ""
      ],
      "execution_count": 0,
      "outputs": []
    }
  ]
}