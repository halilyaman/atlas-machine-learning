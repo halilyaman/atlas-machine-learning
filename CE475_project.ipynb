{
  "nbformat": 4,
  "nbformat_minor": 0,
  "metadata": {
    "colab": {
      "name": "CE475_project.ipynb",
      "provenance": [],
      "collapsed_sections": [],
      "toc_visible": true,
      "mount_file_id": "1C7s1p-LBKvpoMFtw2kuBLda47yVDUrXc",
      "authorship_tag": "ABX9TyO1gCgxIBkkzYuOqXQqG/t5",
      "include_colab_link": true
    },
    "kernelspec": {
      "name": "python3",
      "display_name": "Python 3"
    }
  },
  "cells": [
    {
      "cell_type": "markdown",
      "metadata": {
        "id": "view-in-github",
        "colab_type": "text"
      },
      "source": [
        "<a href=\"https://colab.research.google.com/github/halilyaman/atlas-machine-learning/blob/master/CE475_project.ipynb\" target=\"_parent\"><img src=\"https://colab.research.google.com/assets/colab-badge.svg\" alt=\"Open In Colab\"/></a>"
      ]
    },
    {
      "cell_type": "markdown",
      "metadata": {
        "id": "dsDfaq7D1NK_",
        "colab_type": "text"
      },
      "source": [
        "# **Used Techniques**\n",
        "\n",
        "1.   Multiple Linear Regression\n",
        "2.   L1 Regularization\n",
        "3.   Polynomial Regression\n",
        "4.   K-Nearest Neighbors\n",
        "5.   Deep Neural Networks"
      ]
    },
    {
      "cell_type": "markdown",
      "metadata": {
        "id": "h1CLMbGs_1mT",
        "colab_type": "text"
      },
      "source": [
        "# **EDA**"
      ]
    },
    {
      "cell_type": "markdown",
      "metadata": {
        "id": "s3cTOgvFvZhR",
        "colab_type": "text"
      },
      "source": [
        "**Import necessary libraries**"
      ]
    },
    {
      "cell_type": "code",
      "metadata": {
        "id": "NGZVDzoTswCw",
        "colab_type": "code",
        "colab": {}
      },
      "source": [
        "import numpy as np\n",
        "import pandas as pd\n",
        "import matplotlib.pyplot as plt\n",
        "import seaborn as sb\n",
        "import xlwt\n",
        "from xlwt import Workbook\n",
        "\n",
        "from sklearn.linear_model import LinearRegression\n",
        "from sklearn.linear_model import Lasso\n",
        "from sklearn.model_selection import KFold\n",
        "from sklearn.feature_selection import RFE\n",
        "from sklearn.preprocessing import PolynomialFeatures\n",
        "from sklearn.neighbors import KNeighborsRegressor\n",
        "from sklearn.preprocessing import MinMaxScaler\n",
        "import tensorflow as tf"
      ],
      "execution_count": 0,
      "outputs": []
    },
    {
      "cell_type": "markdown",
      "metadata": {
        "id": "1EE2aRROANCg",
        "colab_type": "text"
      },
      "source": [
        "**Load the data**"
      ]
    },
    {
      "cell_type": "code",
      "metadata": {
        "id": "JAZHfVB-vtuv",
        "colab_type": "code",
        "colab": {}
      },
      "source": [
        "PATH = \"drive/My Drive/IEU/CE475_project/data.csv\"\n",
        "data = pd.read_csv(PATH)"
      ],
      "execution_count": 0,
      "outputs": []
    },
    {
      "cell_type": "markdown",
      "metadata": {
        "id": "xpVqlPK4AgMl",
        "colab_type": "text"
      },
      "source": [
        "**Get training and test data**"
      ]
    },
    {
      "cell_type": "code",
      "metadata": {
        "id": "x0t86QNKHsb8",
        "colab_type": "code",
        "colab": {}
      },
      "source": [
        "training = data[:100]\n",
        "test = data[100:]\n",
        "\n",
        "training_inputs_df = training[[\"x1\", \"x2\", \"x3\", \"x4\", \"x5\", \"x6\"]]\n",
        "training_outputs_df = training[\"Y\"]\n",
        "test_inputs_df = test[[\"x1\", \"x2\", \"x3\", \"x4\", \"x5\", \"x6\"]]"
      ],
      "execution_count": 0,
      "outputs": []
    },
    {
      "cell_type": "markdown",
      "metadata": {
        "id": "dOFkAOF8ZwvA",
        "colab_type": "text"
      },
      "source": [
        "# **Data Distribution**"
      ]
    },
    {
      "cell_type": "code",
      "metadata": {
        "id": "1QDMuvjkFBAF",
        "colab_type": "code",
        "colab": {
          "base_uri": "https://localhost:8080/",
          "height": 297
        },
        "outputId": "45cee5bc-5669-4f0f-c7b8-b393c23ce6ff"
      },
      "source": [
        "data.describe()"
      ],
      "execution_count": 31,
      "outputs": [
        {
          "output_type": "execute_result",
          "data": {
            "text/html": [
              "<div>\n",
              "<style scoped>\n",
              "    .dataframe tbody tr th:only-of-type {\n",
              "        vertical-align: middle;\n",
              "    }\n",
              "\n",
              "    .dataframe tbody tr th {\n",
              "        vertical-align: top;\n",
              "    }\n",
              "\n",
              "    .dataframe thead th {\n",
              "        text-align: right;\n",
              "    }\n",
              "</style>\n",
              "<table border=\"1\" class=\"dataframe\">\n",
              "  <thead>\n",
              "    <tr style=\"text-align: right;\">\n",
              "      <th></th>\n",
              "      <th>SampleNo</th>\n",
              "      <th>x1</th>\n",
              "      <th>x2</th>\n",
              "      <th>x3</th>\n",
              "      <th>x4</th>\n",
              "      <th>x5</th>\n",
              "      <th>x6</th>\n",
              "      <th>Y</th>\n",
              "    </tr>\n",
              "  </thead>\n",
              "  <tbody>\n",
              "    <tr>\n",
              "      <th>count</th>\n",
              "      <td>120.000000</td>\n",
              "      <td>120.000000</td>\n",
              "      <td>120.000000</td>\n",
              "      <td>120.000000</td>\n",
              "      <td>120.000000</td>\n",
              "      <td>120.000000</td>\n",
              "      <td>120.000000</td>\n",
              "      <td>100.000000</td>\n",
              "    </tr>\n",
              "    <tr>\n",
              "      <th>mean</th>\n",
              "      <td>60.500000</td>\n",
              "      <td>18.716667</td>\n",
              "      <td>0.941667</td>\n",
              "      <td>17.066667</td>\n",
              "      <td>48.266667</td>\n",
              "      <td>0.941667</td>\n",
              "      <td>24.883333</td>\n",
              "      <td>1859.750000</td>\n",
              "    </tr>\n",
              "    <tr>\n",
              "      <th>std</th>\n",
              "      <td>34.785054</td>\n",
              "      <td>12.470593</td>\n",
              "      <td>11.644089</td>\n",
              "      <td>10.810618</td>\n",
              "      <td>27.596959</td>\n",
              "      <td>11.644089</td>\n",
              "      <td>14.683887</td>\n",
              "      <td>2717.641332</td>\n",
              "    </tr>\n",
              "    <tr>\n",
              "      <th>min</th>\n",
              "      <td>1.000000</td>\n",
              "      <td>0.000000</td>\n",
              "      <td>-20.000000</td>\n",
              "      <td>0.000000</td>\n",
              "      <td>2.000000</td>\n",
              "      <td>-20.000000</td>\n",
              "      <td>1.000000</td>\n",
              "      <td>-43.000000</td>\n",
              "    </tr>\n",
              "    <tr>\n",
              "      <th>25%</th>\n",
              "      <td>30.750000</td>\n",
              "      <td>8.000000</td>\n",
              "      <td>-9.000000</td>\n",
              "      <td>7.000000</td>\n",
              "      <td>22.750000</td>\n",
              "      <td>-9.000000</td>\n",
              "      <td>12.000000</td>\n",
              "      <td>0.000000</td>\n",
              "    </tr>\n",
              "    <tr>\n",
              "      <th>50%</th>\n",
              "      <td>60.500000</td>\n",
              "      <td>18.500000</td>\n",
              "      <td>1.000000</td>\n",
              "      <td>17.500000</td>\n",
              "      <td>48.000000</td>\n",
              "      <td>1.000000</td>\n",
              "      <td>24.000000</td>\n",
              "      <td>753.500000</td>\n",
              "    </tr>\n",
              "    <tr>\n",
              "      <th>75%</th>\n",
              "      <td>90.250000</td>\n",
              "      <td>29.000000</td>\n",
              "      <td>11.000000</td>\n",
              "      <td>26.500000</td>\n",
              "      <td>74.000000</td>\n",
              "      <td>11.000000</td>\n",
              "      <td>37.250000</td>\n",
              "      <td>2262.500000</td>\n",
              "    </tr>\n",
              "    <tr>\n",
              "      <th>max</th>\n",
              "      <td>120.000000</td>\n",
              "      <td>40.000000</td>\n",
              "      <td>20.000000</td>\n",
              "      <td>35.000000</td>\n",
              "      <td>97.000000</td>\n",
              "      <td>20.000000</td>\n",
              "      <td>50.000000</td>\n",
              "      <td>12575.000000</td>\n",
              "    </tr>\n",
              "  </tbody>\n",
              "</table>\n",
              "</div>"
            ],
            "text/plain": [
              "         SampleNo          x1          x2  ...          x5          x6             Y\n",
              "count  120.000000  120.000000  120.000000  ...  120.000000  120.000000    100.000000\n",
              "mean    60.500000   18.716667    0.941667  ...    0.941667   24.883333   1859.750000\n",
              "std     34.785054   12.470593   11.644089  ...   11.644089   14.683887   2717.641332\n",
              "min      1.000000    0.000000  -20.000000  ...  -20.000000    1.000000    -43.000000\n",
              "25%     30.750000    8.000000   -9.000000  ...   -9.000000   12.000000      0.000000\n",
              "50%     60.500000   18.500000    1.000000  ...    1.000000   24.000000    753.500000\n",
              "75%     90.250000   29.000000   11.000000  ...   11.000000   37.250000   2262.500000\n",
              "max    120.000000   40.000000   20.000000  ...   20.000000   50.000000  12575.000000\n",
              "\n",
              "[8 rows x 8 columns]"
            ]
          },
          "metadata": {
            "tags": []
          },
          "execution_count": 31
        }
      ]
    },
    {
      "cell_type": "markdown",
      "metadata": {
        "id": "Gu5VUQxHCY3w",
        "colab_type": "text"
      },
      "source": [
        "**Plot the histogram for each attribute**"
      ]
    },
    {
      "cell_type": "code",
      "metadata": {
        "id": "V8MC43A_69cj",
        "colab_type": "code",
        "outputId": "fce68957-2095-4d9e-fc31-89b207ce0dbb",
        "colab": {
          "base_uri": "https://localhost:8080/",
          "height": 607
        }
      },
      "source": [
        "axs = training_inputs_df.hist(\n",
        "    figsize=(12, 10),\n",
        "    grid=False,\n",
        "    color='#86bf91', \n",
        "    zorder=2, \n",
        "    rwidth=0.9)"
      ],
      "execution_count": 32,
      "outputs": [
        {
          "output_type": "display_data",
          "data": {
            "image/png": "[encoded data removed]",
            "text/plain": [
              "<Figure size 864x720 with 6 Axes>"
            ]
          },
          "metadata": {
            "tags": [],
            "needs_background": "light"
          }
        }
      ]
    },
    {
      "cell_type": "markdown",
      "metadata": {
        "id": "GKpMIsNEDEtu",
        "colab_type": "text"
      },
      "source": [
        "**Plot the correlation matrix**"
      ]
    },
    {
      "cell_type": "code",
      "metadata": {
        "id": "xXF7BouiDMDb",
        "colab_type": "code",
        "colab": {
          "base_uri": "https://localhost:8080/",
          "height": 596
        },
        "outputId": "fa2bde69-009b-48fd-a562-e222b30ac04a"
      },
      "source": [
        "C_mat = training_inputs_df.corr()\n",
        "fig = plt.figure(figsize=(10, 10))\n",
        "sb.heatmap(C_mat, vmax=1.0, square=True)"
      ],
      "execution_count": 33,
      "outputs": [
        {
          "output_type": "execute_result",
          "data": {
            "text/plain": [
              "<matplotlib.axes._subplots.AxesSubplot at 0x7f85a22112b0>"
            ]
          },
          "metadata": {
            "tags": []
          },
          "execution_count": 33
        },
        {
          "output_type": "display_data",
          "data": {
            "image/png": "[encoded data removed]",
            "text/plain": [
              "<Figure size 720x720 with 2 Axes>"
            ]
          },
          "metadata": {
            "tags": [],
            "needs_background": "light"
          }
        }
      ]
    },
    {
      "cell_type": "markdown",
      "metadata": {
        "id": "gqfYc0_VfhfK",
        "colab_type": "text"
      },
      "source": [
        "# **Interpretation of the Distribution**\n",
        "\n",
        "**If we analyze the distributions, we see that x2 and x5 are exactly the same. So we can drop one of them.**"
      ]
    },
    {
      "cell_type": "code",
      "metadata": {
        "id": "qQGMzrZLg06n",
        "colab_type": "code",
        "outputId": "1e40d1d3-2cbf-470f-8325-000563fde2ec",
        "colab": {
          "base_uri": "https://localhost:8080/",
          "height": 51
        }
      },
      "source": [
        "# drop the column \"x5\"\n",
        "training_inputs_df = training_inputs_df.drop([\"x5\"], axis=1)\n",
        "test_inputs_df = test_inputs_df.drop([\"x5\"], axis=1)\n",
        "\n",
        "# convert data frames to numpy array\n",
        "training_inputs = np.array(training_inputs_df)\n",
        "training_outputs = np.array(training_outputs_df)\n",
        "test_inputs = np.array(test_inputs_df)\n",
        "\n",
        "# print the sizes\n",
        "print(\"Training data size: {}\".format(training_inputs.shape[0]))\n",
        "print(\"Test data size: {}\".format(test_inputs.shape[0]))"
      ],
      "execution_count": 34,
      "outputs": [
        {
          "output_type": "stream",
          "text": [
            "Training data size: 100\n",
            "Test data size: 20\n"
          ],
          "name": "stdout"
        }
      ]
    },
    {
      "cell_type": "markdown",
      "metadata": {
        "id": "O2CxDwGpZ81C",
        "colab_type": "text"
      },
      "source": [
        "**Correlation matrix after dropping the attribute x5**"
      ]
    },
    {
      "cell_type": "code",
      "metadata": {
        "id": "0obDXyDPZ8J5",
        "colab_type": "code",
        "outputId": "8fc3bedd-722b-43a2-b679-deabebaed14e",
        "colab": {
          "base_uri": "https://localhost:8080/",
          "height": 596
        }
      },
      "source": [
        "C_mat = training_inputs_df.corr()\n",
        "fig = plt.figure(figsize=(10, 10))\n",
        "sb.heatmap(C_mat, vmax=1.0, square=True)"
      ],
      "execution_count": 35,
      "outputs": [
        {
          "output_type": "execute_result",
          "data": {
            "text/plain": [
              "<matplotlib.axes._subplots.AxesSubplot at 0x7f85a1b24710>"
            ]
          },
          "metadata": {
            "tags": []
          },
          "execution_count": 35
        },
        {
          "output_type": "display_data",
          "data": {
            "image/png": "[encoded data removed]",
            "text/plain": [
              "<Figure size 720x720 with 2 Axes>"
            ]
          },
          "metadata": {
            "tags": [],
            "needs_background": "light"
          }
        }
      ]
    },
    {
      "cell_type": "markdown",
      "metadata": {
        "id": "0rcrbFdDhIz0",
        "colab_type": "text"
      },
      "source": [
        "# **Helper Functions**"
      ]
    },
    {
      "cell_type": "code",
      "metadata": {
        "id": "8vWupw7yhj2q",
        "colab_type": "code",
        "colab": {}
      },
      "source": [
        "def plot_result(pred_val, real_val):\n",
        "  pred_val = pred_val.flatten()\n",
        "  real_val = real_val.flatten()\n",
        "\n",
        "  plt.scatter(pred_val, real_val)\n",
        "  plt.xlabel(\"Predicted Values\")\n",
        "  plt.ylabel(\"Real Values\")\n",
        "  plt.show()\n",
        "  \n",
        "  sb.kdeplot(pred_val, real_val, color=\"blueviolet\", shade=True)\n",
        "  plt.xlabel(\"Predicted Values\")\n",
        "  plt.ylabel(\"Real Values\")\n",
        "  plt.show()"
      ],
      "execution_count": 0,
      "outputs": []
    },
    {
      "cell_type": "code",
      "metadata": {
        "id": "oj13DJq4aaQM",
        "colab_type": "code",
        "colab": {}
      },
      "source": [
        "def get_statistics(y_pred, y, n_coefs=None):\n",
        "\n",
        "  stats = dict()\n",
        "\n",
        "  y_mean = np.mean(y)\n",
        "\n",
        "  rss = np.sum(np.square(y - y_pred))\n",
        "  tss = np.sum(np.square(y - y_mean))\n",
        "\n",
        "  stats[\"rss\"] = rss\n",
        "  stats[\"tss\"] = tss\n",
        "  stats[\"r_square\"] = 1 - (rss / tss)\n",
        "  stats[\"mse\"] = np.sum(np.square(y_pred - y))\n",
        "  \n",
        "  if n_coefs != None:\n",
        "    \n",
        "    stats[\"f_statistic\"] = ((tss - rss) / n_coefs) / (rss / (len(y) - n_coefs - 1))\n",
        "    stats[\"adjusted_r_square\"] = 1 - ((rss / (len(y) - n_coefs - 1)) / (tss / (len(y) - 1)))\n",
        "\n",
        "  return stats"
      ],
      "execution_count": 0,
      "outputs": []
    },
    {
      "cell_type": "code",
      "metadata": {
        "id": "YOp6BogvbsEW",
        "colab_type": "code",
        "colab": {}
      },
      "source": [
        "def normalize_data(X, y):\n",
        "  scaler_X = MinMaxScaler()\n",
        "  scaler_Y = MinMaxScaler()\n",
        "\n",
        "  y = np.reshape(y, (-1, 1))\n",
        "\n",
        "  scaler_X.fit(X)\n",
        "  scaler_Y.fit(y)\n",
        "\n",
        "  xscale = scaler_X.transform(X)\n",
        "  yscale = scaler_Y.transform(y)\n",
        "\n",
        "  return xscale, yscale, scaler_X, scaler_Y"
      ],
      "execution_count": 0,
      "outputs": []
    },
    {
      "cell_type": "code",
      "metadata": {
        "id": "Gp0vop2-SUkz",
        "colab_type": "code",
        "colab": {}
      },
      "source": [
        "def denormalize_data(data, scaler):\n",
        "\n",
        "  data = scaler.inverse_transform(data).T\n",
        "  \n",
        "  return data"
      ],
      "execution_count": 0,
      "outputs": []
    },
    {
      "cell_type": "code",
      "metadata": {
        "id": "q_jRMjngZZ03",
        "colab_type": "code",
        "colab": {}
      },
      "source": [
        "def write_to_excel(data):\n",
        "\n",
        "  wb = Workbook()\n",
        "\n",
        "  sheet = wb.add_sheet(\"Prediction\")\n",
        "\n",
        "  for i, v in enumerate(data):\n",
        "    \n",
        "    sheet.write(i, 0, str(v))\n",
        "\n",
        "  wb.save(\"submission.xls\")"
      ],
      "execution_count": 0,
      "outputs": []
    },
    {
      "cell_type": "markdown",
      "metadata": {
        "id": "0SeO0F7yTJFj",
        "colab_type": "text"
      },
      "source": [
        "# **1. Multiple Linear Regression**\n",
        "---\n",
        "**Scikit-learn library is used for this implementation.** \\\n",
        "**For measuring the accuracy of the model, k-fold cross validation is used.**"
      ]
    },
    {
      "cell_type": "markdown",
      "metadata": {
        "id": "Phnyx1YIHJ6Y",
        "colab_type": "text"
      },
      "source": [
        "**Declare the function for evaluating the multiple linear regression performance**"
      ]
    },
    {
      "cell_type": "code",
      "metadata": {
        "id": "d2gEXM1sTOL8",
        "colab_type": "code",
        "colab": {}
      },
      "source": [
        "def multi_lin_reg(X, y, n_splits=10):\n",
        "\n",
        "  \"\"\"\n",
        "  This function is used for fitting the data to a multiple linear regression\n",
        "  model. After fitting, the user can get the R^2 and predicted values.\n",
        "\n",
        "  Parameters:\n",
        "  X: input data\n",
        "  y: output data\n",
        "  n_splits: number of folds, used for cross validation.\n",
        "\n",
        "  Returns:\n",
        "  r_square: R^2 value for evaluating the model performance\n",
        "  predictions: Collection of the predicted values in cross validation steps.\n",
        "  \"\"\"\n",
        "\n",
        "  linear_model = LinearRegression()\n",
        "\n",
        "  # training data is splitted into 10 folds each containing 10 data samples.\n",
        "  kf = KFold(n_splits=n_splits, random_state=None, shuffle=False)\n",
        "  \n",
        "  r_squares = []\n",
        "  predictions = np.array([])\n",
        "\n",
        "  for train_index, test_index in kf.split(X):\n",
        "    \n",
        "    # split data for training and testing\n",
        "    X_train, X_test = X[train_index], X[test_index]\n",
        "    y_train, y_test = y[train_index], y[test_index]\n",
        "\n",
        "    # fit the training data to the model\n",
        "    linear_model.fit(X_train, y_train)\n",
        "\n",
        "    # calculate R^2 value\n",
        "    r_square = linear_model.score(X_test, y_test)\n",
        "    r_squares.append(r_square)\n",
        "\n",
        "    # get the prediction results\n",
        "    predictions = np.append(predictions, linear_model.predict(X_test))\n",
        "\n",
        "  # calculate mean of r square values of each fold\n",
        "  r_square = np.mean(r_squares)\n",
        "\n",
        "  return r_square, predictions"
      ],
      "execution_count": 0,
      "outputs": []
    },
    {
      "cell_type": "code",
      "metadata": {
        "id": "CgE3VgIQjShp",
        "colab_type": "code",
        "outputId": "6a1e1cd5-99f2-4229-9e4d-ed5a72afc40b",
        "colab": {
          "base_uri": "https://localhost:8080/",
          "height": 34
        }
      },
      "source": [
        "# apply multiple linear regression and get the R^2 value\n",
        "r_square, MLR_preds = multi_lin_reg(training_inputs, training_outputs, n_splits=4)\n",
        "\n",
        "print(\"Cross Validation R^2: {}\".format(r_square))"
      ],
      "execution_count": 42,
      "outputs": [
        {
          "output_type": "stream",
          "text": [
            "Cross Validation R^2: 0.3445325749234567\n"
          ],
          "name": "stdout"
        }
      ]
    },
    {
      "cell_type": "code",
      "metadata": {
        "id": "nk8rUPZiZ7d9",
        "colab_type": "code",
        "outputId": "d5d2f664-4640-405f-ca7b-d4552e997fb7",
        "colab": {
          "base_uri": "https://localhost:8080/",
          "height": 541
        }
      },
      "source": [
        "# plot the results\n",
        "plot_result(MLR_preds, training_outputs)"
      ],
      "execution_count": 43,
      "outputs": [
        {
          "output_type": "display_data",
          "data": {
            "image/png": "[encoded data removed]",
            "text/plain": [
              "<Figure size 432x288 with 1 Axes>"
            ]
          },
          "metadata": {
            "tags": [],
            "needs_background": "light"
          }
        },
        {
          "output_type": "display_data",
          "data": {
            "image/png": "[encoded data removed]",
            "text/plain": [
              "<Figure size 432x288 with 1 Axes>"
            ]
          },
          "metadata": {
            "tags": [],
            "needs_background": "light"
          }
        }
      ]
    },
    {
      "cell_type": "markdown",
      "metadata": {
        "id": "_iMYSIfNWSu3",
        "colab_type": "text"
      },
      "source": [
        "**Feature Selection with Recursive Feature Elimination Method**"
      ]
    },
    {
      "cell_type": "code",
      "metadata": {
        "id": "swQt4_JzllsD",
        "colab_type": "code",
        "outputId": "5a06dfce-9682-445b-bb38-9406d6b5715d",
        "colab": {
          "base_uri": "https://localhost:8080/",
          "height": 306
        }
      },
      "source": [
        "r_square_values = []\n",
        "log = dict()\n",
        "linear_model = LinearRegression()\n",
        "\n",
        "for i in range(len(training_inputs.T)):\n",
        "  \n",
        "  rfe = RFE(linear_model, i+1)\n",
        "  fit = rfe.fit(training_inputs, training_outputs)\n",
        "\n",
        "  columns = []\n",
        "\n",
        "  for j, val in enumerate(fit.support_): \n",
        "    if val:\n",
        "      columns.append(training_inputs_df.columns[j])\n",
        "  \n",
        "  r_square = fit.score(training_inputs, training_outputs)\n",
        "  r_square_values.append(r_square)\n",
        "\n",
        "  log[i] = dict()\n",
        "  log[i][\"n_feature\"] = i\n",
        "  log[i][\"selected_features\"] = columns\n",
        "  log[i][\"r_square\"] = r_square\n",
        "\n",
        "  print(f\"Selected Features: {columns}\")\n",
        "  print(f\"R^2: {r_square}\")\n",
        "  print(\"----------------------------------------------------------------\")\n",
        "\n",
        "\n",
        "best_r_square = np.max(r_square_values)\n",
        "for i in range(len(log)):\n",
        "  if log[i][\"r_square\"] == best_r_square:\n",
        "    print(\"Best Score Features: \"+str(log[i][\"selected_features\"]))\n",
        "    print(\"Best R^2: \"+str(log[i][\"r_square\"]))\n",
        "    "
      ],
      "execution_count": 44,
      "outputs": [
        {
          "output_type": "stream",
          "text": [
            "Selected Features: ['x1']\n",
            "R^2: 0.22382316839756689\n",
            "----------------------------------------------------------------\n",
            "Selected Features: ['x1', 'x3']\n",
            "R^2: 0.3994151945695339\n",
            "----------------------------------------------------------------\n",
            "Selected Features: ['x1', 'x2', 'x3']\n",
            "R^2: 0.4798833906569423\n",
            "----------------------------------------------------------------\n",
            "Selected Features: ['x1', 'x2', 'x3', 'x6']\n",
            "R^2: 0.4816417573685913\n",
            "----------------------------------------------------------------\n",
            "Selected Features: ['x1', 'x2', 'x3', 'x4', 'x6']\n",
            "R^2: 0.4817574815538422\n",
            "----------------------------------------------------------------\n",
            "Best Score Features: ['x1', 'x2', 'x3', 'x4', 'x6']\n",
            "Best R^2: 0.4817574815538422\n"
          ],
          "name": "stdout"
        }
      ]
    },
    {
      "cell_type": "markdown",
      "metadata": {
        "id": "JyHPUQtA5IjO",
        "colab_type": "text"
      },
      "source": [
        "# **2. L1 Regularization**"
      ]
    },
    {
      "cell_type": "markdown",
      "metadata": {
        "id": "s8c-KVABH6zP",
        "colab_type": "text"
      },
      "source": [
        "**This is another technique used for eliminating unimportant features while fitting the data**"
      ]
    },
    {
      "cell_type": "code",
      "metadata": {
        "id": "K00dLNX95Wdy",
        "colab_type": "code",
        "colab": {}
      },
      "source": [
        "def l1_regularization(X, y, alpha=2, n_splits=4):\n",
        "\n",
        "  lasso = Lasso(alpha=alpha, normalize=True)\n",
        "\n",
        "  # training data is splitted into 10 folds each containing 10 data samples.\n",
        "  kf = KFold(n_splits=n_splits, random_state=None, shuffle=False)\n",
        "\n",
        "  r_squares = []\n",
        "  predictions = np.array([])\n",
        "\n",
        "  for train_index, test_index in kf.split(X):\n",
        "\n",
        "    # split data for training and testing\n",
        "    X_train, X_test = X[train_index], X[test_index]\n",
        "    y_train, y_test = y[train_index], y[test_index]\n",
        "\n",
        "    # fit the training data to the model\n",
        "    lasso.fit(X_train, y_train)\n",
        "\n",
        "    # calculate R^2 value\n",
        "    r_square = lasso.score(X_test, y_test)\n",
        "    r_squares.append(r_square)\n",
        "\n",
        "    # get the prediction results\n",
        "    predictions = np.append(predictions, lasso.predict(X_test))\n",
        "\n",
        "  # calculate mean of r square values\n",
        "  r_square = np.mean(r_squares)\n",
        "\n",
        "  return r_square, predictions"
      ],
      "execution_count": 0,
      "outputs": []
    },
    {
      "cell_type": "markdown",
      "metadata": {
        "id": "vw3CSAIwLaLD",
        "colab_type": "text"
      },
      "source": [
        "**Try the alpha values in range 1 to 30, and decide the best one based on R^2 value**"
      ]
    },
    {
      "cell_type": "code",
      "metadata": {
        "id": "iSYYY_as9Og7",
        "colab_type": "code",
        "outputId": "f8a7e4eb-96e9-44b4-f3ef-c97cc5a39080",
        "colab": {
          "base_uri": "https://localhost:8080/",
          "height": 510
        }
      },
      "source": [
        "# find best alpha value for lasso\n",
        "max_r_square = 0\n",
        "best_alpha = 1\n",
        "\n",
        "for i in range(1, 30):\n",
        "\n",
        "  r_square, lasso_preds = l1_regularization(training_inputs, training_outputs, alpha=i, n_splits=4)\n",
        "\n",
        "  print(\"Alpha: {}   R^2: {}\".format(i, r_square))\n",
        "\n",
        "  if r_square > max_r_square:\n",
        "    \n",
        "    max_r_square = r_square\n",
        "    best_alpha = i"
      ],
      "execution_count": 46,
      "outputs": [
        {
          "output_type": "stream",
          "text": [
            "Alpha: 1   R^2: 0.3464547560992587\n",
            "Alpha: 2   R^2: 0.3484899647678238\n",
            "Alpha: 3   R^2: 0.35045502014471985\n",
            "Alpha: 4   R^2: 0.35229859797677787\n",
            "Alpha: 5   R^2: 0.354020692555128\n",
            "Alpha: 6   R^2: 0.3554316298226774\n",
            "Alpha: 7   R^2: 0.3566834371155797\n",
            "Alpha: 8   R^2: 0.3578261122034411\n",
            "Alpha: 9   R^2: 0.3588596643959712\n",
            "Alpha: 10   R^2: 0.359695582832612\n",
            "Alpha: 11   R^2: 0.36040914073155167\n",
            "Alpha: 12   R^2: 0.36103140919318955\n",
            "Alpha: 13   R^2: 0.36156238821752484\n",
            "Alpha: 14   R^2: 0.3620020778045584\n",
            "Alpha: 15   R^2: 0.36235047795428993\n",
            "Alpha: 16   R^2: 0.3626075886667195\n",
            "Alpha: 17   R^2: 0.36280173279068373\n",
            "Alpha: 18   R^2: 0.3629099416781321\n",
            "Alpha: 19   R^2: 0.3629300473773571\n",
            "Alpha: 20   R^2: 0.3625527918403925\n",
            "Alpha: 21   R^2: 0.36194154433620385\n",
            "Alpha: 22   R^2: 0.36124808184526785\n",
            "Alpha: 23   R^2: 0.36047240436758443\n",
            "Alpha: 24   R^2: 0.3596145119031538\n",
            "Alpha: 25   R^2: 0.3586744044519758\n",
            "Alpha: 26   R^2: 0.3576520820140505\n",
            "Alpha: 27   R^2: 0.3565475445893779\n",
            "Alpha: 28   R^2: 0.355360792177958\n",
            "Alpha: 29   R^2: 0.3540918247797906\n"
          ],
          "name": "stdout"
        }
      ]
    },
    {
      "cell_type": "code",
      "metadata": {
        "id": "2naHEJ_iNDt5",
        "colab_type": "code",
        "colab": {
          "base_uri": "https://localhost:8080/",
          "height": 51
        },
        "outputId": "14d3fa6e-72cd-45ff-f40d-35c0c32a20c1"
      },
      "source": [
        "# apply lasso with the best alpha value\n",
        "r_square, lasso_preds = l1_regularization(training_inputs, training_outputs, alpha=best_alpha, n_splits=4)\n",
        "\n",
        "print(\"Alpha value: {}\\nR^2: {}\".format(best_alpha, r_square))"
      ],
      "execution_count": 47,
      "outputs": [
        {
          "output_type": "stream",
          "text": [
            "Alpha value: 19\n",
            "R^2: 0.3629300473773571\n"
          ],
          "name": "stdout"
        }
      ]
    },
    {
      "cell_type": "code",
      "metadata": {
        "id": "CxsEq3xtC43v",
        "colab_type": "code",
        "outputId": "e34a6790-ad27-425c-8436-4dc5f76685e5",
        "colab": {
          "base_uri": "https://localhost:8080/",
          "height": 541
        }
      },
      "source": [
        "plot_result(lasso_preds, training_outputs)"
      ],
      "execution_count": 48,
      "outputs": [
        {
          "output_type": "display_data",
          "data": {
            "image/png": "[encoded data removed]",
            "text/plain": [
              "<Figure size 432x288 with 1 Axes>"
            ]
          },
          "metadata": {
            "tags": [],
            "needs_background": "light"
          }
        },
        {
          "output_type": "display_data",
          "data": {
            "image/png": "[encoded data removed]",
            "text/plain": [
              "<Figure size 432x288 with 1 Axes>"
            ]
          },
          "metadata": {
            "tags": [],
            "needs_background": "light"
          }
        }
      ]
    },
    {
      "cell_type": "markdown",
      "metadata": {
        "id": "fh7Nc9ghpYm4",
        "colab_type": "text"
      },
      "source": [
        "# **3. Polynomial Regression**\n",
        "**Since the data doesn't fit well enough the linear model, polynomial model might be a better approach.**"
      ]
    },
    {
      "cell_type": "code",
      "metadata": {
        "id": "E9IVaefppc5r",
        "colab_type": "code",
        "colab": {}
      },
      "source": [
        "def poly_reg(X, y, degree=2, n_splits=5):\n",
        "  \n",
        "  poly_features = PolynomialFeatures(degree=degree)\n",
        "\n",
        "  X = poly_features.fit_transform(X)\n",
        "  polynomial_model = LinearRegression()\n",
        "\n",
        "  kf = KFold(n_splits=n_splits, random_state=None, shuffle=False)\n",
        "\n",
        "  r_squares = []\n",
        "  predictions = np.array([])\n",
        "\n",
        "  for train_index, test_index in kf.split(X):\n",
        "\n",
        "    # split data for training and testing\n",
        "    X_train, X_test = X[train_index], X[test_index]\n",
        "    y_train, y_test = y[train_index], y[test_index]\n",
        "  \n",
        "    polynomial_model.fit(X_train, y_train)\n",
        "\n",
        "    # calculate R^2 value\n",
        "    r_square = polynomial_model.score(X_test, y_test)\n",
        "    r_squares.append(r_square)\n",
        "\n",
        "    # get the predictions\n",
        "    predictions = np.append(predictions, polynomial_model.predict(X_test))\n",
        "\n",
        "  # calculate mean of r square values\n",
        "  r_square = np.mean(r_squares)\n",
        "\n",
        "  return r_square, predictions\n"
      ],
      "execution_count": 0,
      "outputs": []
    },
    {
      "cell_type": "code",
      "metadata": {
        "id": "AT34J9tNq5LJ",
        "colab_type": "code",
        "outputId": "afd09922-2666-4993-c08d-2731e7a08f7a",
        "colab": {
          "base_uri": "https://localhost:8080/",
          "height": 34
        }
      },
      "source": [
        "r_square, poly_preds = poly_reg(training_inputs, training_outputs, degree=2, n_splits=4)\n",
        "\n",
        "print(\"Cross validation R^2: {}\".format(r_square))"
      ],
      "execution_count": 50,
      "outputs": [
        {
          "output_type": "stream",
          "text": [
            "Cross validation R^2: 0.46101400795870107\n"
          ],
          "name": "stdout"
        }
      ]
    },
    {
      "cell_type": "code",
      "metadata": {
        "id": "5sliU5qJq-kP",
        "colab_type": "code",
        "outputId": "207e6de3-f5d7-4553-9c17-6e72608d81ea",
        "colab": {
          "base_uri": "https://localhost:8080/",
          "height": 541
        }
      },
      "source": [
        "plot_result(poly_preds, training_outputs)"
      ],
      "execution_count": 51,
      "outputs": [
        {
          "output_type": "display_data",
          "data": {
            "image/png": "[encoded data removed]",
            "text/plain": [
              "<Figure size 432x288 with 1 Axes>"
            ]
          },
          "metadata": {
            "tags": [],
            "needs_background": "light"
          }
        },
        {
          "output_type": "display_data",
          "data": {
            "image/png": "[encoded data removed]",
            "text/plain": [
              "<Figure size 432x288 with 1 Axes>"
            ]
          },
          "metadata": {
            "tags": [],
            "needs_background": "light"
          }
        }
      ]
    },
    {
      "cell_type": "markdown",
      "metadata": {
        "id": "g2Qq4bXhynry",
        "colab_type": "text"
      },
      "source": [
        "# **4. K-Nearest Neighbors**"
      ]
    },
    {
      "cell_type": "code",
      "metadata": {
        "id": "KKwhEdfiyrBX",
        "colab_type": "code",
        "colab": {}
      },
      "source": [
        "def knn(X, y, algorithm=\"auto\", n_neighbors=5, n_splits=5):\n",
        "  \n",
        "  knn = KNeighborsRegressor(n_neighbors=n_neighbors, algorithm=algorithm)\n",
        "\n",
        "  kf = KFold(n_splits=n_splits, random_state=None, shuffle=False)\n",
        "\n",
        "  r_squares = []\n",
        "  predictions = np.array([])\n",
        "\n",
        "  for train_index, test_index in kf.split(X):\n",
        "\n",
        "    # split data for training and testing\n",
        "    X_train, X_test = X[train_index], X[test_index]\n",
        "    y_train, y_test = y[train_index], y[test_index]\n",
        "  \n",
        "    knn.fit(X_train, y_train)\n",
        "\n",
        "    # calculate R^2 value\n",
        "    r_square = knn.score(X_test, y_test)\n",
        "    r_squares.append(r_square)\n",
        "\n",
        "    # get the predictions\n",
        "    predictions = np.append(predictions, knn.predict(X_test))\n",
        "\n",
        "  # calculate mean of r square values\n",
        "  r_square = np.mean(r_squares)\n",
        "\n",
        "  return r_square, predictions"
      ],
      "execution_count": 0,
      "outputs": []
    },
    {
      "cell_type": "markdown",
      "metadata": {
        "id": "QiCiP3tXOc63",
        "colab_type": "text"
      },
      "source": [
        "**Try the number of neighbors in range 1 to 20, and decide the best one based on R^2 value.**"
      ]
    },
    {
      "cell_type": "code",
      "metadata": {
        "id": "J6-eFk-Xz4X-",
        "colab_type": "code",
        "outputId": "c88b5686-98fe-4f59-affc-8337d5808994",
        "colab": {
          "base_uri": "https://localhost:8080/",
          "height": 340
        }
      },
      "source": [
        "best_n_neighbors = 0\n",
        "best_r_square = 0\n",
        "\n",
        "xscale, yscale, scaler_X, scaler_Y = normalize_data(training_inputs, training_outputs)\n",
        "\n",
        "for i in range(1, 20):\n",
        "\n",
        "  r_square, knn_preds = knn(\n",
        "      xscale, \n",
        "      yscale, \n",
        "      algorithm=\"brute\", \n",
        "      n_neighbors=i,\n",
        "      n_splits=4)\n",
        "\n",
        "  if r_square > best_r_square:\n",
        "\n",
        "    best_r_square = r_square\n",
        "    best_n_neighbors = i\n",
        "  \n",
        "  print(\"{}- R^2: {}\".format(i, r_square))"
      ],
      "execution_count": 53,
      "outputs": [
        {
          "output_type": "stream",
          "text": [
            "1- R^2: 0.14034789856277774\n",
            "2- R^2: 0.2746570012961934\n",
            "3- R^2: 0.3004901649680253\n",
            "4- R^2: 0.20053442660004167\n",
            "5- R^2: 0.2290999720956518\n",
            "6- R^2: 0.25886209349272804\n",
            "7- R^2: 0.2649569562288834\n",
            "8- R^2: 0.26353210892153495\n",
            "9- R^2: 0.27979602314184293\n",
            "10- R^2: 0.2852975608414963\n",
            "11- R^2: 0.2897668350255974\n",
            "12- R^2: 0.2830721624456447\n",
            "13- R^2: 0.2928644383082212\n",
            "14- R^2: 0.25754952378439083\n",
            "15- R^2: 0.25008751184584954\n",
            "16- R^2: 0.24435508194003783\n",
            "17- R^2: 0.25047606335748895\n",
            "18- R^2: 0.26383741475954614\n",
            "19- R^2: 0.2598044521818217\n"
          ],
          "name": "stdout"
        }
      ]
    },
    {
      "cell_type": "code",
      "metadata": {
        "id": "3PquCWF9IUXz",
        "colab_type": "code",
        "colab": {
          "base_uri": "https://localhost:8080/",
          "height": 51
        },
        "outputId": "314d9d0e-5b2f-4b68-ac2e-5549e2ce0a2a"
      },
      "source": [
        "r_square, knn_preds = knn(\n",
        "      xscale, \n",
        "      yscale, \n",
        "      algorithm=\"brute\", \n",
        "      n_neighbors=best_n_neighbors,\n",
        "      n_splits=4)\n",
        "\n",
        "print(\"Number of neighbors: {}\\nR^2: {}\".format(best_n_neighbors, r_square))"
      ],
      "execution_count": 54,
      "outputs": [
        {
          "output_type": "stream",
          "text": [
            "Number of neighbors: 3\n",
            "R^2: 0.3004901649680253\n"
          ],
          "name": "stdout"
        }
      ]
    },
    {
      "cell_type": "code",
      "metadata": {
        "id": "sdZ5QO-L0eBt",
        "colab_type": "code",
        "outputId": "4541079d-a06a-4f55-b823-d2461c10aad2",
        "colab": {
          "base_uri": "https://localhost:8080/",
          "height": 541
        }
      },
      "source": [
        "knn_preds = np.reshape(knn_preds, (-1, 1))\n",
        "knn_preds = denormalize_data(knn_preds, scaler_Y)\n",
        "\n",
        "plot_result(knn_preds, training_outputs)"
      ],
      "execution_count": 55,
      "outputs": [
        {
          "output_type": "display_data",
          "data": {
            "image/png": "[encoded data removed]",
            "text/plain": [
              "<Figure size 432x288 with 1 Axes>"
            ]
          },
          "metadata": {
            "tags": [],
            "needs_background": "light"
          }
        },
        {
          "output_type": "display_data",
          "data": {
            "image/png": "[encoded data removed]",
            "text/plain": [
              "<Figure size 432x288 with 1 Axes>"
            ]
          },
          "metadata": {
            "tags": [],
            "needs_background": "light"
          }
        }
      ]
    },
    {
      "cell_type": "markdown",
      "metadata": {
        "id": "1aee0tc74l-v",
        "colab_type": "text"
      },
      "source": [
        "# **5. Deep Neural Networks**"
      ]
    },
    {
      "cell_type": "code",
      "metadata": {
        "id": "VKdDasNO4p4H",
        "colab_type": "code",
        "colab": {}
      },
      "source": [
        "def build_model():\n",
        "\n",
        "  \"\"\"\n",
        "  Neural network model and layers are created in this function.\n",
        "\n",
        "  Returns:\n",
        "  NN_model: neural network model that we built\n",
        "  \"\"\"\n",
        "\n",
        "  NN_model = tf.keras.Sequential()\n",
        "\n",
        "  NN_model.add(tf.keras.layers.Dense(50, input_dim=5, kernel_initializer=\"normal\", activation=\"relu\"))\n",
        "  NN_model.add(tf.keras.layers.Dense(40, kernel_initializer=\"normal\", activation=\"relu\"))\n",
        "  NN_model.add(tf.keras.layers.Dense(1, kernel_initializer=\"normal\", activation=\"linear\"))\n",
        "\n",
        "  NN_model.compile(\n",
        "      optimizer=tf.keras.optimizers.Adam(), \n",
        "      loss=\"mse\",\n",
        "      metrics=[\"mse\", \"mae\"]\n",
        "  )\n",
        "\n",
        "  return NN_model"
      ],
      "execution_count": 0,
      "outputs": []
    },
    {
      "cell_type": "code",
      "metadata": {
        "id": "M_veU4saqeLL",
        "colab_type": "code",
        "colab": {}
      },
      "source": [
        "# get the model\n",
        "NN_model = build_model()\n",
        "\n",
        "# normalize the training data\n",
        "xscale, yscale, scaler_X, scaler_Y = normalize_data(training_inputs, training_outputs)\n",
        "\n",
        "# fitting data to the model\n",
        "history = NN_model.fit(\n",
        "        xscale,\n",
        "        yscale,\n",
        "        epochs=200,\n",
        "        batch_size=80,\n",
        "        validation_split=0.2,\n",
        "        verbose=0,\n",
        "    )"
      ],
      "execution_count": 0,
      "outputs": []
    },
    {
      "cell_type": "markdown",
      "metadata": {
        "id": "wGUwOiIUdbdc",
        "colab_type": "text"
      },
      "source": [
        "**Loss values for both training and validation data**"
      ]
    },
    {
      "cell_type": "code",
      "metadata": {
        "id": "1ABP5zWEVMbJ",
        "colab_type": "code",
        "outputId": "b6a01487-53e9-4c28-a5a9-dd967dd8ec15",
        "colab": {
          "base_uri": "https://localhost:8080/",
          "height": 295
        }
      },
      "source": [
        "loss = history.history[\"loss\"]\n",
        "val_loss = history.history[\"val_loss\"]\n",
        "\n",
        "epochs = range(len(loss))\n",
        "\n",
        "plt.plot(epochs, loss, \"g\", label=\"Training loss\")\n",
        "plt.plot(epochs, val_loss, \"r\", label=\"Validation loss\")\n",
        "plt.title(\"Training and Validation Loss\")\n",
        "plt.xlabel(\"Epoch\")\n",
        "plt.ylabel(\"Loss\")\n",
        "\n",
        "plt.legend()\n",
        "plt.show()"
      ],
      "execution_count": 103,
      "outputs": [
        {
          "output_type": "display_data",
          "data": {
            "image/png": "[encoded data removed]",
            "text/plain": [
              "<Figure size 432x288 with 1 Axes>"
            ]
          },
          "metadata": {
            "tags": [],
            "needs_background": "light"
          }
        }
      ]
    },
    {
      "cell_type": "code",
      "metadata": {
        "id": "suJ66ByqQOzk",
        "colab_type": "code",
        "outputId": "3c35946d-0888-492a-9c99-f789baff7e65",
        "colab": {
          "base_uri": "https://localhost:8080/",
          "height": 34
        }
      },
      "source": [
        "NN_preds = NN_model.predict(xscale)\n",
        "NN_preds = scaler_Y.inverse_transform(NN_preds).T\n",
        "\n",
        "r_square = 1 - ( np.sum(np.square(training_outputs - NN_preds)) / np.sum(np.square(training_outputs - np.mean(training_outputs))))\n",
        "print(\"R^2: {}\".format(r_square))"
      ],
      "execution_count": 104,
      "outputs": [
        {
          "output_type": "stream",
          "text": [
            "R^2: 0.7536209353745481\n"
          ],
          "name": "stdout"
        }
      ]
    },
    {
      "cell_type": "code",
      "metadata": {
        "id": "vm7chft5bJlI",
        "colab_type": "code",
        "colab": {
          "base_uri": "https://localhost:8080/",
          "height": 541
        },
        "outputId": "ad7d8d66-eeda-421b-a19b-75d52c597055"
      },
      "source": [
        "plot_result(NN_preds, training_outputs)"
      ],
      "execution_count": 105,
      "outputs": [
        {
          "output_type": "display_data",
          "data": {
            "image/png": "[encoded data removed]",
            "text/plain": [
              "<Figure size 432x288 with 1 Axes>"
            ]
          },
          "metadata": {
            "tags": [],
            "needs_background": "light"
          }
        },
        {
          "output_type": "display_data",
          "data": {
            "image/png": "[encoded data removed]",
            "text/plain": [
              "<Figure size 432x288 with 1 Axes>"
            ]
          },
          "metadata": {
            "tags": [],
            "needs_background": "light"
          }
        }
      ]
    },
    {
      "cell_type": "markdown",
      "metadata": {
        "id": "fj47MVW0tHMT",
        "colab_type": "text"
      },
      "source": [
        "# **Final Prediction On The Test Data**"
      ]
    },
    {
      "cell_type": "code",
      "metadata": {
        "id": "LFlsV-DpX8qK",
        "colab_type": "code",
        "colab": {
          "base_uri": "https://localhost:8080/",
          "height": 357
        },
        "outputId": "49de1502-b4ff-485f-ba1c-857dc92e4c95"
      },
      "source": [
        "# normalize the test data\n",
        "test_scaled = scaler_X.transform(test_inputs)\n",
        "\n",
        "# get the predictions\n",
        "preds = NN_model.predict(test_scaled)\n",
        "\n",
        "# denormalize and print the predictions\n",
        "final_prediction = denormalize_data(preds, scaler_Y).T.astype(\"int\")\n",
        "print(final_prediction)"
      ],
      "execution_count": 100,
      "outputs": [
        {
          "output_type": "stream",
          "text": [
            "[[ 7167]\n",
            " [ 1054]\n",
            " [ 4857]\n",
            " [ 3041]\n",
            " [  725]\n",
            " [  500]\n",
            " [  983]\n",
            " [ 5927]\n",
            " [10375]\n",
            " [ 5768]\n",
            " [ 1311]\n",
            " [ 1322]\n",
            " [ 2594]\n",
            " [ 1182]\n",
            " [ 1305]\n",
            " [10316]\n",
            " [   66]\n",
            " [  588]\n",
            " [  213]\n",
            " [  -49]]\n"
          ],
          "name": "stdout"
        }
      ]
    },
    {
      "cell_type": "code",
      "metadata": {
        "id": "5cx8xGj3tyuV",
        "colab_type": "code",
        "colab": {}
      },
      "source": [
        "write_to_excel(final_prediction.T[0])"
      ],
      "execution_count": 0,
      "outputs": []
    },
    {
      "cell_type": "code",
      "metadata": {
        "id": "638IvjWmeWPm",
        "colab_type": "code",
        "colab": {}
      },
      "source": [
        ""
      ],
      "execution_count": 0,
      "outputs": []
    }
  ]
}